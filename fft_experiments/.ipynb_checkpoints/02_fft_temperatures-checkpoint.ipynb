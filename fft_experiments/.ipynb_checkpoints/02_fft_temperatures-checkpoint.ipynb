{
 "cells": [
  {
   "cell_type": "markdown",
   "metadata": {},
   "source": [
    "# Aplicação da FFT no dataset Temperatures\n",
    "fonte: https://pythontic.com/visualization/signals/fouriertransform_fft"
   ]
  },
  {
   "cell_type": "markdown",
   "metadata": {},
   "source": [
    "*ToDo*\n",
    "* ( )Entender a sampling frequency\n",
    "* () Entender as variáveis tpCount e as seguintes"
   ]
  },
  {
   "cell_type": "code",
   "execution_count": 1,
   "metadata": {},
   "outputs": [],
   "source": [
    "import pandas as pd\n",
    "import matplotlib.pyplot as plt\n",
    "import numpy as np"
   ]
  },
  {
   "cell_type": "code",
   "execution_count": 2,
   "metadata": {},
   "outputs": [],
   "source": [
    "city='Portland'\n",
    "data = pd.read_csv('data/temperature.csv',\n",
    "                      usecols=['datetime', city],\n",
    "                      parse_dates=['datetime'],\n",
    "                      index_col=['datetime'],\n",
    "                      infer_datetime_format=True,\n",
    "                      skiprows=[1])"
   ]
  },
  {
   "cell_type": "code",
   "execution_count": 3,
   "metadata": {},
   "outputs": [
    {
     "data": {
      "text/html": [
       "<div>\n",
       "<style scoped>\n",
       "    .dataframe tbody tr th:only-of-type {\n",
       "        vertical-align: middle;\n",
       "    }\n",
       "\n",
       "    .dataframe tbody tr th {\n",
       "        vertical-align: top;\n",
       "    }\n",
       "\n",
       "    .dataframe thead th {\n",
       "        text-align: right;\n",
       "    }\n",
       "</style>\n",
       "<table border=\"1\" class=\"dataframe\">\n",
       "  <thead>\n",
       "    <tr style=\"text-align: right;\">\n",
       "      <th></th>\n",
       "      <th>Portland</th>\n",
       "    </tr>\n",
       "    <tr>\n",
       "      <th>datetime</th>\n",
       "      <th></th>\n",
       "    </tr>\n",
       "  </thead>\n",
       "  <tbody>\n",
       "    <tr>\n",
       "      <td>2012-10-01 13:00:00</td>\n",
       "      <td>282.080000</td>\n",
       "    </tr>\n",
       "    <tr>\n",
       "      <td>2012-10-01 14:00:00</td>\n",
       "      <td>282.083252</td>\n",
       "    </tr>\n",
       "    <tr>\n",
       "      <td>2012-10-01 15:00:00</td>\n",
       "      <td>282.091866</td>\n",
       "    </tr>\n",
       "    <tr>\n",
       "      <td>2012-10-01 16:00:00</td>\n",
       "      <td>282.100481</td>\n",
       "    </tr>\n",
       "    <tr>\n",
       "      <td>2012-10-01 17:00:00</td>\n",
       "      <td>282.109095</td>\n",
       "    </tr>\n",
       "  </tbody>\n",
       "</table>\n",
       "</div>"
      ],
      "text/plain": [
       "                       Portland\n",
       "datetime                       \n",
       "2012-10-01 13:00:00  282.080000\n",
       "2012-10-01 14:00:00  282.083252\n",
       "2012-10-01 15:00:00  282.091866\n",
       "2012-10-01 16:00:00  282.100481\n",
       "2012-10-01 17:00:00  282.109095"
      ]
     },
     "execution_count": 3,
     "metadata": {},
     "output_type": "execute_result"
    }
   ],
   "source": [
    "data.head()"
   ]
  },
  {
   "cell_type": "code",
   "execution_count": 4,
   "metadata": {},
   "outputs": [
    {
     "data": {
      "text/plain": [
       "[<matplotlib.lines.Line2D at 0x7f2dc8a9efd0>]"
      ]
     },
     "execution_count": 4,
     "metadata": {},
     "output_type": "execute_result"
    },
    {
     "data": {
      "image/png": "[encoded data removed]",
      "text/plain": [
       "<Figure size 432x288 with 1 Axes>"
      ]
     },
     "metadata": {
      "needs_background": "light"
     },
     "output_type": "display_data"
    }
   ],
   "source": [
    "plt.plot([i for i in range(data.shape[0])], data[city])"
   ]
  },
  {
   "cell_type": "code",
   "execution_count": 5,
   "metadata": {},
   "outputs": [],
   "source": [
    "magnitude = data[city]\n",
    "\n",
    "# |?| Entender melhor a sampling frequency\n",
    "samplingFrequency = len(magnitude)"
   ]
  },
  {
   "cell_type": "code",
   "execution_count": 6,
   "metadata": {},
   "outputs": [],
   "source": [
    "fourierTransform = np.fft.fft(magnitude)\n",
    "\n",
    "# Frequency domain representation\n",
    "fourierTransform = np.fft.fft(magnitude)/len(magnitude)           # Normalize amplitude\n",
    "fourierTransform = fourierTransform[range(int(len(magnitude)/2))] # Exclude sampling frequency\n",
    "\n",
    "tpCount     = len(magnitude)\n",
    "values      = np.arange(int(tpCount/2))\n",
    "timePeriod  = tpCount/samplingFrequency\n",
    "frequencies = values/timePeriod"
   ]
  },
  {
   "cell_type": "code",
   "execution_count": 25,
   "metadata": {},
   "outputs": [],
   "source": [
    "# Remover o primeiro valor, pois é 0 e gera ruído\n",
    "frequencies = frequencies[1:]\n",
    "fourierTransform = fourierTransform[1:]"
   ]
  },
  {
   "cell_type": "code",
   "execution_count": 24,
   "metadata": {},
   "outputs": [
    {
     "data": {
      "text/plain": [
       "[<matplotlib.lines.Line2D at 0x7f2dc77b08d0>]"
      ]
     },
     "execution_count": 24,
     "metadata": {},
     "output_type": "execute_result"
    },
    {
     "data": {
      "image/png": "[encoded data removed]",
      "text/plain": [
       "<Figure size 432x288 with 1 Axes>"
      ]
     },
     "metadata": {
      "needs_background": "light"
     },
     "output_type": "display_data"
    }
   ],
   "source": [
    "# Plotamos os valores absolutos da série de Fourier\n",
    "plt.plot(frequencies[:30], abs(fourierTransform)[:30])\n"
   ]
  },
  {
   "cell_type": "code",
   "execution_count": 20,
   "metadata": {},
   "outputs": [],
   "source": [
    "ordered_freqs = list(zip(frequencies, fourierTransform))"
   ]
  },
  {
   "cell_type": "code",
   "execution_count": 21,
   "metadata": {},
   "outputs": [
    {
     "data": {
      "text/plain": [
       "[(1.0, (-0.17962156547752536+0.23233273118926917j)),\n",
       " (2.0, (0.06601644840824791-0.006733649509023874j)),\n",
       " (3.0, (0.20625136006658865+0.37881945876601714j)),\n",
       " (4.0, (-0.12533987821464074+0.4911700259068571j)),\n",
       " (5.0, (-0.8458648035527344+3.764688901100609j)),\n",
       " (6.0, (0.13159975604632926-0.7399577494716308j)),\n",
       " (7.0, (-0.04407012574485535-0.2094970213208673j)),\n",
       " (8.0, (-0.06700581775778547-0.41613270606904446j)),\n",
       " (9.0, (0.1495653904834511-0.18816139895770734j)),\n",
       " (10.0, (-0.3838865819305446+0.20907173395531298j))]"
      ]
     },
     "execution_count": 21,
     "metadata": {},
     "output_type": "execute_result"
    }
   ],
   "source": [
    "ordered_freqs[:10]"
   ]
  },
  {
   "cell_type": "markdown",
   "metadata": {},
   "source": [
    "# Ordered signals by frequency"
   ]
  },
  {
   "cell_type": "code",
   "execution_count": 22,
   "metadata": {},
   "outputs": [],
   "source": [
    "sorted_by_freqs = sorted(ordered_freqs, key=lambda tup: tup[1])"
   ]
  },
  {
   "cell_type": "code",
   "execution_count": 23,
   "metadata": {},
   "outputs": [
    {
     "name": "stdout",
     "output_type": "stream",
     "text": [
      "frequency signal, fft\n",
      "1 : (5.0, (-0.8458648035527344+3.764688901100609j))\n",
      "2 : (1886.0, (-0.44100021187110705+1.0752020681143517j))\n",
      "3 : (1880.0, (-0.4016291737271869-0.10707466554606748j))\n",
      "4 : (10.0, (-0.3838865819305446+0.20907173395531298j))\n",
      "5 : (1891.0, (-0.33622783249815846-0.21034456479993452j))\n",
      "6 : (88.0, (-0.23958182617071078+0.029864415710588395j))\n",
      "7 : (57.0, (-0.21578697840258848-0.08310784669244897j))\n",
      "8 : (78.0, (-0.20497610894470328-0.05997271943649842j))\n",
      "9 : (75.0, (-0.18329746640155928+0.004045394102329823j))\n",
      "10 : (1.0, (-0.17962156547752536+0.23233273118926917j))\n"
     ]
    }
   ],
   "source": [
    "print(\"frequency signal, fft\")\n",
    "for i, item in enumerate(sorted_by_freqs[:10]):\n",
    "    print(i+1, \":\", item)"
   ]
  },
  {
   "cell_type": "code",
   "execution_count": null,
   "metadata": {},
   "outputs": [],
   "source": []
  },
  {
   "cell_type": "code",
   "execution_count": null,
   "metadata": {},
   "outputs": [],
   "source": []
  }
 ],
 "metadata": {
  "kernelspec": {
   "display_name": "Python 3",
   "language": "python",
   "name": "python3"
  },
  "language_info": {
   "codemirror_mode": {
    "name": "ipython",
    "version": 3
   },
   "file_extension": ".py",
   "mimetype": "text/x-python",
   "name": "python",
   "nbconvert_exporter": "python",
   "pygments_lexer": "ipython3",
   "version": "3.7.3"
  }
 },
 "nbformat": 4,
 "nbformat_minor": 2
}
