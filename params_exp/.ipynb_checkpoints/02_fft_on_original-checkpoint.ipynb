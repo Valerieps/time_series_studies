{
 "cells": [
  {
   "cell_type": "markdown",
   "metadata": {},
   "source": [
    "# FFT on original series\n",
    "* Série não detrended\n",
    "\n",
    "fonte: https://pythontic.com/visualization/signals/fouriertransform_fft"
   ]
  },
  {
   "cell_type": "markdown",
   "metadata": {},
   "source": [
    "*ToDo*\n",
    "* ( )Entender a sampling frequency\n",
    "* () Entender as variáveis tpCount e as seguintes"
   ]
  },
  {
   "cell_type": "markdown",
   "metadata": {},
   "source": [
    "# 1. Load and visualize"
   ]
  },
  {
   "cell_type": "code",
   "execution_count": 1,
   "metadata": {},
   "outputs": [],
   "source": [
    "import pandas as pd\n",
    "import matplotlib.pyplot as plt\n",
    "import numpy as np"
   ]
  },
  {
   "cell_type": "code",
   "execution_count": 3,
   "metadata": {},
   "outputs": [],
   "source": [
    "city='Portland'\n",
    "data = pd.read_csv('../data/temperature.csv',\n",
    "                      usecols=['datetime', city],\n",
    "                      parse_dates=['datetime'],\n",
    "                      index_col=['datetime'],\n",
    "                      infer_datetime_format=True,\n",
    "                      skiprows=[1])"
   ]
  },
  {
   "cell_type": "code",
   "execution_count": 4,
   "metadata": {},
   "outputs": [
    {
     "data": {
      "text/html": [
       "<div>\n",
       "<style scoped>\n",
       "    .dataframe tbody tr th:only-of-type {\n",
       "        vertical-align: middle;\n",
       "    }\n",
       "\n",
       "    .dataframe tbody tr th {\n",
       "        vertical-align: top;\n",
       "    }\n",
       "\n",
       "    .dataframe thead th {\n",
       "        text-align: right;\n",
       "    }\n",
       "</style>\n",
       "<table border=\"1\" class=\"dataframe\">\n",
       "  <thead>\n",
       "    <tr style=\"text-align: right;\">\n",
       "      <th></th>\n",
       "      <th>Portland</th>\n",
       "    </tr>\n",
       "    <tr>\n",
       "      <th>datetime</th>\n",
       "      <th></th>\n",
       "    </tr>\n",
       "  </thead>\n",
       "  <tbody>\n",
       "    <tr>\n",
       "      <th>2012-10-01 13:00:00</th>\n",
       "      <td>282.080000</td>\n",
       "    </tr>\n",
       "    <tr>\n",
       "      <th>2012-10-01 14:00:00</th>\n",
       "      <td>282.083252</td>\n",
       "    </tr>\n",
       "    <tr>\n",
       "      <th>2012-10-01 15:00:00</th>\n",
       "      <td>282.091866</td>\n",
       "    </tr>\n",
       "    <tr>\n",
       "      <th>2012-10-01 16:00:00</th>\n",
       "      <td>282.100481</td>\n",
       "    </tr>\n",
       "    <tr>\n",
       "      <th>2012-10-01 17:00:00</th>\n",
       "      <td>282.109095</td>\n",
       "    </tr>\n",
       "  </tbody>\n",
       "</table>\n",
       "</div>"
      ],
      "text/plain": [
       "                       Portland\n",
       "datetime                       \n",
       "2012-10-01 13:00:00  282.080000\n",
       "2012-10-01 14:00:00  282.083252\n",
       "2012-10-01 15:00:00  282.091866\n",
       "2012-10-01 16:00:00  282.100481\n",
       "2012-10-01 17:00:00  282.109095"
      ]
     },
     "execution_count": 4,
     "metadata": {},
     "output_type": "execute_result"
    }
   ],
   "source": [
    "data.head()"
   ]
  },
  {
   "cell_type": "code",
   "execution_count": 5,
   "metadata": {},
   "outputs": [
    {
     "data": {
      "text/plain": [
       "[<matplotlib.lines.Line2D at 0x7f829d788f98>]"
      ]
     },
     "execution_count": 5,
     "metadata": {},
     "output_type": "execute_result"
    },
    {
     "data": {
      "image/png": "[encoded data removed]",
      "text/plain": [
       "<Figure size 432x288 with 1 Axes>"
      ]
     },
     "metadata": {
      "needs_background": "light"
     },
     "output_type": "display_data"
    }
   ],
   "source": [
    "plt.plot([i for i in range(data.shape[0])], data[city])"
   ]
  },
  {
   "cell_type": "markdown",
   "metadata": {},
   "source": [
    "# 2. FFT on original series"
   ]
  },
  {
   "cell_type": "code",
   "execution_count": 6,
   "metadata": {},
   "outputs": [],
   "source": [
    "def fft(data):\n",
    "    magnitude = data\n",
    "\n",
    "    # |?| Entender melhor a sampling frequency\n",
    "    samplingFrequency = len(magnitude)\n",
    "    fourierTransform = np.fft.fft(magnitude)\n",
    "\n",
    "    # Frequency domain representation\n",
    "    fourierTransform = fourierTransform/len(magnitude)           # Normalize amplitude\n",
    "    fourierTransform = fourierTransform[range(int(len(magnitude)/2))] # Exclude sampling frequency\n",
    "\n",
    "    tpCount     = len(magnitude)\n",
    "    values      = np.arange(int(tpCount/2))\n",
    "    timePeriod  = tpCount/samplingFrequency\n",
    "    frequencies = values/timePeriod\n",
    "    \n",
    "    \n",
    "    # remove sinal [?]\n",
    "    frequencies = frequencies[1:]\n",
    "    fourierTransform = fourierTransform[1:]\n",
    "\n",
    "    return frequencies, fourierTransform"
   ]
  },
  {
   "cell_type": "code",
   "execution_count": 9,
   "metadata": {},
   "outputs": [],
   "source": [
    "frequencies, fourier = fft(data[city])"
   ]
  },
  {
   "cell_type": "code",
   "execution_count": 11,
   "metadata": {},
   "outputs": [
    {
     "data": {
      "text/plain": [
       "[<matplotlib.lines.Line2D at 0x7f829d8c27f0>]"
      ]
     },
     "execution_count": 11,
     "metadata": {},
     "output_type": "execute_result"
    },
    {
     "data": {
      "image/png": "[encoded data removed]",
      "text/plain": [
       "<Figure size 432x288 with 1 Axes>"
      ]
     },
     "metadata": {
      "needs_background": "light"
     },
     "output_type": "display_data"
    }
   ],
   "source": [
    "# Plotamos os valores absolutos da série de Fourier\n",
    "plt.plot(frequencies[:30], abs(fourier)[:30])"
   ]
  },
  {
   "cell_type": "markdown",
   "metadata": {},
   "source": [
    "# 3. Ordered signals by frequency"
   ]
  },
  {
   "cell_type": "code",
   "execution_count": 17,
   "metadata": {},
   "outputs": [],
   "source": [
    "ordered_freqs = list(zip(frequencies, fourier))"
   ]
  },
  {
   "cell_type": "code",
   "execution_count": 18,
   "metadata": {},
   "outputs": [],
   "source": [
    "sorted_by_freqs = sorted(ordered_freqs, key=lambda tup: tup[1])"
   ]
  },
  {
   "cell_type": "code",
   "execution_count": 19,
   "metadata": {},
   "outputs": [
    {
     "name": "stdout",
     "output_type": "stream",
     "text": [
      "frequency signal, fft result\n",
      "1 : (5.0, (-0.8458648035527341+3.764688901100609j))\n",
      "2 : (1886.0, (-0.4410002118711071+1.0752020681143517j))\n",
      "3 : (1880.0, (-0.401629173727187-0.1070746655460675j))\n",
      "4 : (10.0, (-0.3838865819305447+0.209071733955313j))\n",
      "5 : (1891.0, (-0.33622783249815846-0.2103445647999346j))\n",
      "6 : (88.0, (-0.23958182617071083+0.029864415710588385j))\n",
      "7 : (57.0, (-0.21578697840258843-0.08310784669244894j))\n",
      "8 : (78.0, (-0.20497610894470328-0.0599727194364984j))\n",
      "9 : (75.0, (-0.1832974664015593+0.004045394102329828j))\n",
      "10 : (1.0, (-0.17962156547752536+0.23233273118926911j))\n"
     ]
    }
   ],
   "source": [
    "print(\"frequency signal, fft result\")\n",
    "for i, item in enumerate(sorted_by_freqs[:10]):\n",
    "    print(i+1, \":\", item)"
   ]
  },
  {
   "cell_type": "code",
   "execution_count": null,
   "metadata": {},
   "outputs": [],
   "source": []
  },
  {
   "cell_type": "code",
   "execution_count": null,
   "metadata": {},
   "outputs": [],
   "source": []
  }
 ],
 "metadata": {
  "kernelspec": {
   "display_name": "Python 3",
   "language": "python",
   "name": "python3"
  },
  "language_info": {
   "codemirror_mode": {
    "name": "ipython",
    "version": 3
   },
   "file_extension": ".py",
   "mimetype": "text/x-python",
   "name": "python",
   "nbconvert_exporter": "python",
   "pygments_lexer": "ipython3",
   "version": "3.7.3"
  }
 },
 "nbformat": 4,
 "nbformat_minor": 2
}
