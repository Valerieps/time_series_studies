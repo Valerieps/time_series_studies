{
 "cells": [
  {
   "cell_type": "markdown",
   "metadata": {},
   "source": [
    "https://ipython-books.github.io/101-analyzing-the-frequency-components-of-a-signal-with-a-fast-fourier-transform/\n"
   ]
  },
  {
   "cell_type": "code",
   "execution_count": 1,
   "metadata": {},
   "outputs": [],
   "source": [
    "import datetime\n",
    "import numpy as np\n",
    "import scipy as sp\n",
    "import scipy.fftpack\n",
    "import pandas as pd\n",
    "import matplotlib.pyplot as plt\n",
    "%matplotlib inline"
   ]
  },
  {
   "cell_type": "code",
   "execution_count": 2,
   "metadata": {},
   "outputs": [],
   "source": [
    "data = pd.read_csv('temperature.csv',\n",
    "                      usecols=['datetime', 'Portland'],\n",
    "                      parse_dates=['datetime'],\n",
    "                      index_col=['datetime'],\n",
    "                      infer_datetime_format=True,\n",
    "                      skiprows=[1])"
   ]
  },
  {
   "cell_type": "code",
   "execution_count": 23,
   "metadata": {},
   "outputs": [
    {
     "data": {
      "text/html": [
       "<div>\n",
       "<style scoped>\n",
       "    .dataframe tbody tr th:only-of-type {\n",
       "        vertical-align: middle;\n",
       "    }\n",
       "\n",
       "    .dataframe tbody tr th {\n",
       "        vertical-align: top;\n",
       "    }\n",
       "\n",
       "    .dataframe thead th {\n",
       "        text-align: right;\n",
       "    }\n",
       "</style>\n",
       "<table border=\"1\" class=\"dataframe\">\n",
       "  <thead>\n",
       "    <tr style=\"text-align: right;\">\n",
       "      <th></th>\n",
       "      <th>Portland</th>\n",
       "    </tr>\n",
       "    <tr>\n",
       "      <th>datetime</th>\n",
       "      <th></th>\n",
       "    </tr>\n",
       "  </thead>\n",
       "  <tbody>\n",
       "    <tr>\n",
       "      <th>2012-10-01 13:00:00</th>\n",
       "      <td>282.080000</td>\n",
       "    </tr>\n",
       "    <tr>\n",
       "      <th>2012-10-01 14:00:00</th>\n",
       "      <td>282.083252</td>\n",
       "    </tr>\n",
       "    <tr>\n",
       "      <th>2012-10-01 15:00:00</th>\n",
       "      <td>282.091866</td>\n",
       "    </tr>\n",
       "    <tr>\n",
       "      <th>2012-10-01 16:00:00</th>\n",
       "      <td>282.100481</td>\n",
       "    </tr>\n",
       "    <tr>\n",
       "      <th>2012-10-01 17:00:00</th>\n",
       "      <td>282.109095</td>\n",
       "    </tr>\n",
       "  </tbody>\n",
       "</table>\n",
       "</div>"
      ],
      "text/plain": [
       "                       Portland\n",
       "datetime                       \n",
       "2012-10-01 13:00:00  282.080000\n",
       "2012-10-01 14:00:00  282.083252\n",
       "2012-10-01 15:00:00  282.091866\n",
       "2012-10-01 16:00:00  282.100481\n",
       "2012-10-01 17:00:00  282.109095"
      ]
     },
     "execution_count": 23,
     "metadata": {},
     "output_type": "execute_result"
    }
   ],
   "source": [
    "data.head()"
   ]
  },
  {
   "cell_type": "code",
   "execution_count": 3,
   "metadata": {},
   "outputs": [
    {
     "data": {
      "text/plain": [
       "[<matplotlib.lines.Line2D at 0x7fab33acdb38>]"
      ]
     },
     "execution_count": 3,
     "metadata": {},
     "output_type": "execute_result"
    },
    {
     "data": {
      "image/png": "[encoded data removed]",
      "text/plain": [
       "<Figure size 432x288 with 1 Axes>"
      ]
     },
     "metadata": {
      "needs_background": "light"
     },
     "output_type": "display_data"
    }
   ],
   "source": [
    "plt.plot([i for i in range(data.shape[0])], data['Portland'])"
   ]
  },
  {
   "cell_type": "code",
   "execution_count": 16,
   "metadata": {},
   "outputs": [],
   "source": [
    "temps = data['Portland']"
   ]
  },
  {
   "cell_type": "code",
   "execution_count": null,
   "metadata": {},
   "outputs": [],
   "source": [
    "# Holds the temporary fft. \n",
    "# temp_fft is a complex number ndarray, that holds the FFT result for each datapoint\n",
    "temp_fft = sp.fftpack.fft(temps)"
   ]
  },
  {
   "cell_type": "code",
   "execution_count": 22,
   "metadata": {},
   "outputs": [
    {
     "name": "stdout",
     "output_type": "stream",
     "text": [
      "<class 'numpy.ndarray'>\n",
      "<class 'numpy.complex128'>\n",
      "Len: 45252\n",
      "(12896500.031676833+0j)\n",
      "(-8128.235080984003+10513.520751776738j)\n",
      "(2987.3763233652853-304.7111075824178j)\n",
      "(9333.286545735711+17142.33814807976j)\n",
      "(-5671.880168970738+22226.426012337222j)\n"
     ]
    }
   ],
   "source": [
    "print(type(temp_fft))\n",
    "print(type(temp_fft[0]))\n",
    "print(\"Len:\",len(temp_fft))\n",
    "for instance in temp_fft[:5]:\n",
    "    print(instance)"
   ]
  },
  {
   "cell_type": "code",
   "execution_count": 19,
   "metadata": {},
   "outputs": [],
   "source": [
    "#Once the FFT has been obtained, we need to take the square of its absolute value in order to get the power spectral density (PSD):\n",
    "#Spectral density is the decomposition of the signals\n",
    "# temp_psd holds a float ndarrya \n",
    "\n",
    "#|?| Porque power? Não tem função que já faça isso?\n",
    "temp_psd = np.abs(temp_fft) ** 2"
   ]
  },
  {
   "cell_type": "code",
   "execution_count": 21,
   "metadata": {},
   "outputs": [
    {
     "name": "stdout",
     "output_type": "stream",
     "text": [
      "<class 'numpy.ndarray'>\n",
      "<class 'numpy.float64'>\n",
      "Len: 45252\n",
      "166319713067040.53\n",
      "176602324.1297791\n",
      "9017266.156487593\n",
      "380969994.9279219\n",
      "526184237.9330643\n"
     ]
    }
   ],
   "source": [
    "print(type(temp_psd))\n",
    "print(type(temp_psd[0]))\n",
    "print(\"Len:\",len(temp_psd))\n",
    "for instance in temp_psd[:5]:\n",
    "    print(instance)"
   ]
  },
  {
   "cell_type": "code",
   "execution_count": 24,
   "metadata": {},
   "outputs": [],
   "source": [
    "# The next step is to get the frequencies corresponding to the values of the PSD\n",
    "# The fftfreq() utility function does just that. \n",
    "# It takes the length of the PSD vector as input as well as the frequency unit. Here, we choose an annual unit: \n",
    "#     a frequency of 1 corresponds to 1 year (365 days). We provide 1/365 because the original unit is in days:\n",
    "\n",
    "# fftfreq(nuber of instances to be analysed, time unit(default=1 (year)))\n",
    "time_unit = 1/365/24 # Our dataset is in hours\n",
    "\n",
    "fftfreq = sp.fftpack.fftfreq(len(temp_psd), time_unit)\n"
   ]
  },
  {
   "cell_type": "code",
   "execution_count": 25,
   "metadata": {},
   "outputs": [
    {
     "name": "stdout",
     "output_type": "stream",
     "text": [
      "<class 'numpy.ndarray'>\n",
      "<class 'numpy.float64'>\n",
      "Len: 45252\n",
      "0.0\n",
      "0.1935826040837974\n",
      "0.3871652081675948\n",
      "0.5807478122513923\n",
      "0.7743304163351896\n"
     ]
    }
   ],
   "source": [
    "print(type(fftfreq))\n",
    "print(type(fftfreq[0]))\n",
    "print(\"Len:\",len(fftfreq))\n",
    "for instance in fftfreq[:5]:\n",
    "    print(instance)"
   ]
  },
  {
   "cell_type": "code",
   "execution_count": null,
   "metadata": {},
   "outputs": [],
   "source": []
  }
 ],
 "metadata": {
  "kernelspec": {
   "display_name": "Python 3",
   "language": "python",
   "name": "python3"
  },
  "language_info": {
   "codemirror_mode": {
    "name": "ipython",
    "version": 3
   },
   "file_extension": ".py",
   "mimetype": "text/x-python",
   "name": "python",
   "nbconvert_exporter": "python",
   "pygments_lexer": "ipython3",
   "version": "3.7.3"
  }
 },
 "nbformat": 4,
 "nbformat_minor": 2
}
