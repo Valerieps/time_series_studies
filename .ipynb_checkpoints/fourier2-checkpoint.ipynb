{
 "cells": [
  {
   "cell_type": "code",
   "execution_count": 17,
   "metadata": {},
   "outputs": [],
   "source": [
    "import pandas as pd\n",
    "import matplotlib.pyplot as plt\n",
    "import numpy as np"
   ]
  },
  {
   "cell_type": "code",
   "execution_count": 12,
   "metadata": {},
   "outputs": [],
   "source": [
    "data = pd.read_csv('data/temperature.csv',\n",
    "                      usecols=['datetime', 'Portland'],\n",
    "                      parse_dates=['datetime'],\n",
    "                      index_col=['datetime'],\n",
    "                      infer_datetime_format=True,\n",
    "                      skiprows=[1])"
   ]
  },
  {
   "cell_type": "code",
   "execution_count": 13,
   "metadata": {},
   "outputs": [
    {
     "data": {
      "text/html": [
       "<div>\n",
       "<style scoped>\n",
       "    .dataframe tbody tr th:only-of-type {\n",
       "        vertical-align: middle;\n",
       "    }\n",
       "\n",
       "    .dataframe tbody tr th {\n",
       "        vertical-align: top;\n",
       "    }\n",
       "\n",
       "    .dataframe thead th {\n",
       "        text-align: right;\n",
       "    }\n",
       "</style>\n",
       "<table border=\"1\" class=\"dataframe\">\n",
       "  <thead>\n",
       "    <tr style=\"text-align: right;\">\n",
       "      <th></th>\n",
       "      <th>Portland</th>\n",
       "    </tr>\n",
       "    <tr>\n",
       "      <th>datetime</th>\n",
       "      <th></th>\n",
       "    </tr>\n",
       "  </thead>\n",
       "  <tbody>\n",
       "    <tr>\n",
       "      <td>2012-10-01 13:00:00</td>\n",
       "      <td>282.080000</td>\n",
       "    </tr>\n",
       "    <tr>\n",
       "      <td>2012-10-01 14:00:00</td>\n",
       "      <td>282.083252</td>\n",
       "    </tr>\n",
       "    <tr>\n",
       "      <td>2012-10-01 15:00:00</td>\n",
       "      <td>282.091866</td>\n",
       "    </tr>\n",
       "    <tr>\n",
       "      <td>2012-10-01 16:00:00</td>\n",
       "      <td>282.100481</td>\n",
       "    </tr>\n",
       "    <tr>\n",
       "      <td>2012-10-01 17:00:00</td>\n",
       "      <td>282.109095</td>\n",
       "    </tr>\n",
       "  </tbody>\n",
       "</table>\n",
       "</div>"
      ],
      "text/plain": [
       "                       Portland\n",
       "datetime                       \n",
       "2012-10-01 13:00:00  282.080000\n",
       "2012-10-01 14:00:00  282.083252\n",
       "2012-10-01 15:00:00  282.091866\n",
       "2012-10-01 16:00:00  282.100481\n",
       "2012-10-01 17:00:00  282.109095"
      ]
     },
     "execution_count": 13,
     "metadata": {},
     "output_type": "execute_result"
    }
   ],
   "source": [
    "data.head()"
   ]
  },
  {
   "cell_type": "code",
   "execution_count": 16,
   "metadata": {},
   "outputs": [
    {
     "data": {
      "text/plain": [
       "[<matplotlib.lines.Line2D at 0x7f14f0319a58>]"
      ]
     },
     "execution_count": 16,
     "metadata": {},
     "output_type": "execute_result"
    },
    {
     "data": {
      "image/png": "[encoded data removed]",
      "text/plain": [
       "<Figure size 432x288 with 1 Axes>"
      ]
     },
     "metadata": {
      "needs_background": "light"
     },
     "output_type": "display_data"
    }
   ],
   "source": [
    "#plotar a serie\n",
    "plt.plot([i for i in range(data.shape[0])], data['Portland'])"
   ]
  },
  {
   "cell_type": "code",
   "execution_count": 31,
   "metadata": {},
   "outputs": [
    {
     "data": {
      "text/plain": [
       "array([ 1.28965000e+07     +0.j        , -8.12823508e+03 +10513.52075178j,\n",
       "        2.98737632e+03   -304.71110758j,  9.33328655e+03 +17142.33814808j,\n",
       "       -5.67188017e+03 +22226.42601234j, -3.82770741e+04+170359.7021526j ,\n",
       "        5.95515216e+03 -33484.56807909j, -1.99426133e+03  -9480.15920881j,\n",
       "       -3.03214727e+03 -18830.83721504j,  6.76813305e+03  -8514.67962563j,\n",
       "       -1.73716356e+04  +9460.91410495j,  1.08619624e+04 -13592.88038756j,\n",
       "       -4.03705378e+03 -18156.92971201j,  6.41090893e+03 -10013.60093839j,\n",
       "       -6.96911481e+02 -20085.61335402j,  5.95363372e+03  -4698.48241208j,\n",
       "       -2.77819847e+03  -2638.89744423j,  3.76376342e+03   +463.00688383j,\n",
       "       -6.84350199e+03  -6557.51083021j,  4.22758883e+03 -14212.08767264j])"
      ]
     },
     "execution_count": 31,
     "metadata": {},
     "output_type": "execute_result"
    }
   ],
   "source": [
    "fourierTransform = np.fft.fft(data['Portland'])\n",
    "fourierTransform[:20]"
   ]
  },
  {
   "cell_type": "code",
   "execution_count": 29,
   "metadata": {},
   "outputs": [
    {
     "data": {
      "text/plain": [
       "[<matplotlib.lines.Line2D at 0x7f14ee262a90>]"
      ]
     },
     "execution_count": 29,
     "metadata": {},
     "output_type": "execute_result"
    },
    {
     "data": {
      "image/png": "[encoded data removed]",
      "text/plain": [
       "<Figure size 432x288 with 1 Axes>"
      ]
     },
     "metadata": {
      "needs_background": "light"
     },
     "output_type": "display_data"
    }
   ],
   "source": [
    "plt.plot([i for i in range(fourierTransform.shape[0])], fourierTransform)"
   ]
  },
  {
   "cell_type": "code",
   "execution_count": null,
   "metadata": {},
   "outputs": [],
   "source": []
  }
 ],
 "metadata": {
  "kernelspec": {
   "display_name": "Python 3",
   "language": "python",
   "name": "python3"
  },
  "language_info": {
   "codemirror_mode": {
    "name": "ipython",
    "version": 3
   },
   "file_extension": ".py",
   "mimetype": "text/x-python",
   "name": "python",
   "nbconvert_exporter": "python",
   "pygments_lexer": "ipython3",
   "version": "3.7.3"
  }
 },
 "nbformat": 4,
 "nbformat_minor": 2
}
